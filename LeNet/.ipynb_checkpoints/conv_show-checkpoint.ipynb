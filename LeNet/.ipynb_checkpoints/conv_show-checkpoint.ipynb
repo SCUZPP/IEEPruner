{
 "cells": [
  {
   "cell_type": "code",
   "execution_count": null,
   "metadata": {
    "collapsed": true
   },
   "outputs": [],
   "source": [
    "import pickle\n",
    "import matplotlib.pyplot as plt\n",
    "population = pickle.load(open('./Results2/population.pkl', 'rb'))\n",
    "count = 0\n",
    "    \n",
    "#function2代表模型正确率\n",
    "res1 = []\n",
    "#function1代表模型剪枝率\n",
    "res2 = []\n",
    "max_acc = 0\n",
    "pru = 0\n",
    "max_pru = 0\n",
    "acc= 0\n",
    "for ind in population:\n",
    "    count += 1\n",
    "    if max_acc < 100 - ind.obj[0]:\n",
    "        max_acc = 100 - ind.obj[0]\n",
    "        pru = 1 - ind.obj[1] / 580\n",
    "    if max_pru < 1 - ind.obj[1] / 580:\n",
    "        max_pru = 1 - ind.obj[1] / 580\n",
    "        acc = 100 - ind.obj[0]\n",
    "        \n",
    "    res1.append(100 - ind.obj[0])\n",
    "    res2.append(1 - ind.obj[1] / 580 )\n",
    "    \n",
    "#print('f1:', res1)\n",
    "#print('f2', res2)\n",
    "plt.xlabel('step2_vgg19_bn_50% ', fontsize=15)\n",
    "plt.ylabel('Accuracy', fontsize=15)\n",
    "plt.scatter(res2, res1, s = 2, c = 'r', marker = 'o')\n",
    "plt.show()        \n",
    "\n",
    "print('Max accuracy: {max_acc:.3f}, Pruning: {pru:.4f}'\n",
    "                 .format(max_acc = max_acc, pru = pru))\n",
    "print('Max pruning: {acc:.3f}, Accuracy: {max_pru:.4f}'\n",
    "                 .format(acc = acc, max_pru = max_pru))\n",
    "\n",
    "print(count)"
   ]
  }
 ],
 "metadata": {
  "kernelspec": {
   "display_name": "Python 3",
   "language": "python",
   "name": "python3"
  },
  "language_info": {
   "codemirror_mode": {
    "name": "ipython",
    "version": 3
   },
   "file_extension": ".py",
   "mimetype": "text/x-python",
   "name": "python",
   "nbconvert_exporter": "python",
   "pygments_lexer": "ipython3",
   "version": "3.6.3"
  },
  "toc": {
   "base_numbering": 1,
   "nav_menu": {},
   "number_sections": true,
   "sideBar": true,
   "skip_h1_title": false,
   "title_cell": "Table of Contents",
   "title_sidebar": "Contents",
   "toc_cell": false,
   "toc_position": {},
   "toc_section_display": true,
   "toc_window_display": false
  }
 },
 "nbformat": 4,
 "nbformat_minor": 2
}
