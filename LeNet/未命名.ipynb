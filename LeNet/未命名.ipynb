{
 "cells": [
  {
   "cell_type": "code",
   "execution_count": 1,
   "metadata": {
    "scrolled": true
   },
   "outputs": [
    {
     "name": "stdout",
     "output_type": "stream",
     "text": [
      "log_path log.txt\n",
      "\n",
      " * Prec@1 91.700, loss 0.2934\n",
      "\n",
      "step1微调前:  * accuracy 91.70, loss 0.29, pruning 0.29\n",
      "\n",
      " * Prec@1 98.400, loss 0.0423\n",
      "\n",
      "step1微调前:  * accuracy 98.40, loss 0.04, pruning 0.29\n",
      "\n",
      " * Prec@1 92.800, loss 0.2630\n",
      "\n",
      "step1微调前:  * accuracy 92.80, loss 0.26, pruning 0.29\n",
      "\n",
      " * Prec@1 97.700, loss 0.0707\n",
      "\n",
      "step1微调前:  * accuracy 97.70, loss 0.07, pruning 0.30\n",
      "Gen: 1\n",
      "\n",
      " * Prec@1 98.100, loss 0.0444\n",
      "\n",
      "step1微调前:  * accuracy 98.10, loss 0.04, pruning 0.27\n",
      "\n",
      " * Prec@1 97.900, loss 0.0640\n",
      "\n",
      "step1微调前:  * accuracy 97.90, loss 0.06, pruning 0.31\n",
      "Gen: 2\n",
      "step1 final population\n",
      " * accuracy 98.40, pruning 0.29\n",
      " * accuracy 97.90, pruning 0.31\n",
      "\n",
      " * Prec@1 98.400, loss 0.0423\n",
      "\n",
      "step2微调前:  * accuracy 98.40, loss 0.04, pruning 0.29\n",
      "Train: * Prec@ 100.000, loss 0.0219\n",
      "Train: * Prec@ 100.000, loss 0.0186\n",
      "Train: * Prec@ 99.479, loss 0.0246\n",
      "Train: * Prec@ 99.609, loss 0.0250\n",
      "Train: * Prec@ 99.688, loss 0.0221\n",
      "Train: * Prec@ 99.219, loss 0.0279\n",
      "Train: * Prec@ 98.661, loss 0.0372\n",
      "Train: * Prec@ 98.828, loss 0.0356\n",
      "Train: * Prec@ 98.785, loss 0.0382\n",
      "Train: * Prec@ 98.750, loss 0.0398\n",
      "Train: * Prec@ 98.438, loss 0.0428\n",
      "Train: * Prec@ 98.568, loss 0.0422\n",
      "Train: * Prec@ 98.558, loss 0.0420\n",
      "Train: * Prec@ 98.661, loss 0.0401\n",
      "Train: * Prec@ 98.646, loss 0.0406\n",
      "Train: * Prec@ 98.600, loss 0.0415\n",
      "\n",
      "Test: * Prec@ 98.600, loss 0.0437\n",
      "\n",
      "step2微调后:  * accuracy 98.60, pruning 0.29\n",
      "\n",
      " * Prec@1 97.900, loss 0.0640\n",
      "\n",
      "step2微调前:  * accuracy 97.90, loss 0.06, pruning 0.31\n",
      "Train: * Prec@ 98.438, loss 0.0350\n",
      "Train: * Prec@ 99.219, loss 0.0304\n",
      "Train: * Prec@ 99.479, loss 0.0294\n",
      "Train: * Prec@ 98.438, loss 0.0522\n",
      "Train: * Prec@ 98.125, loss 0.0551\n",
      "Train: * Prec@ 98.177, loss 0.0576\n",
      "Train: * Prec@ 97.991, loss 0.0653\n",
      "Train: * Prec@ 98.047, loss 0.0631\n",
      "Train: * Prec@ 98.090, loss 0.0631\n",
      "Train: * Prec@ 98.125, loss 0.0601\n",
      "Train: * Prec@ 98.153, loss 0.0626\n",
      "Train: * Prec@ 98.047, loss 0.0640\n",
      "Train: * Prec@ 98.197, loss 0.0612\n",
      "Train: * Prec@ 98.214, loss 0.0596\n",
      "Train: * Prec@ 98.333, loss 0.0582\n",
      "Train: * Prec@ 98.300, loss 0.0596\n",
      "\n",
      "Test: * Prec@ 98.200, loss 0.0516\n",
      "\n",
      "step2微调后:  * accuracy 98.20, pruning 0.31\n",
      "final population\n",
      " *accuracy 98.60, pruning 0.29\n",
      " *accuracy 98.20, pruning 0.31\n"
     ]
    }
   ],
   "source": [
    "%run main.py\n"
   ]
  },
  {
   "cell_type": "code",
   "execution_count": 4,
   "metadata": {
    "ExecuteTime": {
     "end_time": "2020-05-19T06:09:12.578807Z",
     "start_time": "2020-05-19T06:09:12.350089Z"
    }
   },
   "outputs": [
    {
     "data": {
      "image/png": "[encoded data removed]",
      "text/plain": [
       "<Figure size 432x288 with 1 Axes>"
      ]
     },
     "metadata": {
      "needs_background": "light"
     },
     "output_type": "display_data"
    },
    {
     "name": "stdout",
     "output_type": "stream",
     "text": [
      "Max accuracy: 99.220, Pruning: 0.6983\n",
      "Max pruning: 98.730, Accuracy: 0.8483\n",
      "200\n"
     ]
    }
   ],
   "source": [
    "import torch\n",
    "import pickle\n",
    "import matplotlib.pyplot as plt\n",
    "population = pickle.load(open('./Results2/population_100.pkl', 'rb'))\n",
    "count = 0\n",
    "    \n",
    "#function2代表模型正确率\n",
    "res1 = []\n",
    "#function1代表模型剪枝率\n",
    "res2 = []\n",
    "max_acc = 0\n",
    "pru = 0\n",
    "max_pru = 0\n",
    "acc= 0\n",
    "for ind in population:\n",
    "    count += 1\n",
    "    if max_acc < 100 - ind.obj[0]:\n",
    "        max_acc = 100 - ind.obj[0]\n",
    "        pru = 1 - ind.obj[1] / 580\n",
    "    if max_pru < 1 - ind.obj[1] / 580:\n",
    "        max_pru = 1 - ind.obj[1] / 580\n",
    "        acc = 100 - ind.obj[0]\n",
    "        \n",
    "    res1.append(100 - ind.obj[0])\n",
    "    res2.append(1 - ind.obj[1] / 580 )\n",
    "    \n",
    "#print('f1:', res1)\n",
    "#print('f2', res2)\n",
    "plt.xlabel('step2_50% ', fontsize=15)\n",
    "plt.ylabel('Accuracy', fontsize=15)\n",
    "plt.scatter(res2, res1, s = 2, c = 'r', marker = 'o')\n",
    "plt.show()        \n",
    "\n",
    "print('Max accuracy: {max_acc:.3f}, Pruning: {pru:.4f}'\n",
    "                 .format(max_acc = max_acc, pru = pru))\n",
    "print('Max pruning: {acc:.3f}, Accuracy: {max_pru:.4f}'\n",
    "                 .format(acc = acc, max_pru = max_pru))\n",
    "\n",
    "print(count)"
   ]
  },
  {
   "cell_type": "code",
   "execution_count": null,
   "metadata": {
    "collapsed": true
   },
   "outputs": [],
   "source": []
  }
 ],
 "metadata": {
  "kernelspec": {
   "display_name": "Python (tensorflow_gpuenv)",
   "language": "python",
   "name": "tensorflow_gpuenv"
  },
  "language_info": {
   "codemirror_mode": {
    "name": "ipython",
    "version": 3
   },
   "file_extension": ".py",
   "mimetype": "text/x-python",
   "name": "python",
   "nbconvert_exporter": "python",
   "pygments_lexer": "ipython3",
   "version": "3.7.4"
  },
  "toc": {
   "base_numbering": 1,
   "nav_menu": {},
   "number_sections": true,
   "sideBar": true,
   "skip_h1_title": false,
   "title_cell": "Table of Contents",
   "title_sidebar": "Contents",
   "toc_cell": false,
   "toc_position": {},
   "toc_section_display": true,
   "toc_window_display": false
  }
 },
 "nbformat": 4,
 "nbformat_minor": 2
}
